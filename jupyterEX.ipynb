{
 "cells": [
  {
   "cell_type": "code",
   "execution_count": 1,
   "metadata": {},
   "outputs": [
    {
     "name": "stdout",
     "output_type": "stream",
     "text": [
      "Collecting rpy2==2.3.0\n",
      "  Using cached rpy2-2.3.0.tar.gz (178 kB)\n",
      "Note: you may need to restart the kernel to use updated packages.\n"
     ]
    },
    {
     "name": "stderr",
     "output_type": "stream",
     "text": [
      "    ERROR: Command errored out with exit status 1:\n",
      "     command: 'E:\\Users\\JUAN\\anaconda3\\python.exe' -c 'import sys, setuptools, tokenize; sys.argv[0] = '\"'\"'C:\\\\Users\\\\JUAN\\\\AppData\\\\Local\\\\Temp\\\\pip-install-yfexsnk4\\\\rpy2\\\\setup.py'\"'\"'; __file__='\"'\"'C:\\\\Users\\\\JUAN\\\\AppData\\\\Local\\\\Temp\\\\pip-install-yfexsnk4\\\\rpy2\\\\setup.py'\"'\"';f=getattr(tokenize, '\"'\"'open'\"'\"', open)(__file__);code=f.read().replace('\"'\"'\\r\\n'\"'\"', '\"'\"'\\n'\"'\"');f.close();exec(compile(code, __file__, '\"'\"'exec'\"'\"'))' egg_info --egg-base 'C:\\Users\\JUAN\\AppData\\Local\\Temp\\pip-install-yfexsnk4\\rpy2\\pip-egg-info'\n",
      "         cwd: C:\\Users\\JUAN\\AppData\\Local\\Temp\\pip-install-yfexsnk4\\rpy2\\\n",
      "    Complete output (15 lines):\n",
      "    warning: no previously-included files matching '*patch*' found anywhere in distribution\n",
      "    warning: no previously-included files matching '*diff*' found anywhere in distribution\n",
      "    warning: no previously-included files matching '.hg' found anywhere in distribution\n",
      "    no previously-included directories found matching 'dist'\n",
      "    Using 2to3 to translate Python2-only idioms into Python3 code. Please wait...\n",
      "    done.\n",
      "    running egg_info\n",
      "    creating C:\\Users\\JUAN\\AppData\\Local\\Temp\\pip-install-yfexsnk4\\rpy2\\pip-egg-info\\rpy2.egg-info\n",
      "    writing C:\\Users\\JUAN\\AppData\\Local\\Temp\\pip-install-yfexsnk4\\rpy2\\pip-egg-info\\rpy2.egg-info\\PKG-INFO\n",
      "    writing dependency_links to C:\\Users\\JUAN\\AppData\\Local\\Temp\\pip-install-yfexsnk4\\rpy2\\pip-egg-info\\rpy2.egg-info\\dependency_links.txt\n",
      "    writing top-level names to C:\\Users\\JUAN\\AppData\\Local\\Temp\\pip-install-yfexsnk4\\rpy2\\pip-egg-info\\rpy2.egg-info\\top_level.txt\n",
      "    writing manifest file 'C:\\Users\\JUAN\\AppData\\Local\\Temp\\pip-install-yfexsnk4\\rpy2\\pip-egg-info\\rpy2.egg-info\\SOURCES.txt'\n",
      "    \"R\" no se reconoce como un comando interno o externo,\n",
      "    programa o archivo por lotes ejecutable.\n",
      "    Error: Tried to guess R's HOME but no R command in the PATH.\n",
      "    ----------------------------------------\n",
      "ERROR: Command errored out with exit status 1: python setup.py egg_info Check the logs for full command output.\n"
     ]
    }
   ],
   "source": [
    "pip install rpy2==2.3.0"
   ]
  },
  {
   "cell_type": "code",
   "execution_count": null,
   "metadata": {},
   "outputs": [],
   "source": [
    "import pandas as pd\n",
    "from numpy import *\n",
    "import scipy as sp\n",
    "from pandas import *\n",
    "from rpy2.robjects.packages import importr\n",
    "import rpy2.robjects as ro\n",
    "import pandas.rpy.common as com"
   ]
  },
  {
   "cell_type": "code",
   "execution_count": null,
   "metadata": {},
   "outputs": [],
   "source": [
    "matrix = pd.read_csv(\"5_Industry_Portfolios.csv\",header=None) #Cargar datos"
   ]
  },
  {
   "cell_type": "code",
   "execution_count": null,
   "metadata": {},
   "outputs": [],
   "source": [
    "matrix"
   ]
  },
  {
   "cell_type": "code",
   "execution_count": null,
   "metadata": {
    "scrolled": true
   },
   "outputs": [],
   "source": [
    "matrix.drop(matrix.tail(1).index,inplace=True) #Droppear la última fila sobreescribiendo el archivo"
   ]
  },
  {
   "cell_type": "code",
   "execution_count": null,
   "metadata": {},
   "outputs": [],
   "source": [
    "matrix"
   ]
  },
  {
   "cell_type": "code",
   "execution_count": null,
   "metadata": {},
   "outputs": [],
   "source": [
    "matrix.drop(matrix.columns[0],axis=1,inplace=True) #Borrar columna de fechas"
   ]
  },
  {
   "cell_type": "code",
   "execution_count": null,
   "metadata": {},
   "outputs": [],
   "source": [
    "matrix"
   ]
  },
  {
   "cell_type": "code",
   "execution_count": null,
   "metadata": {},
   "outputs": [],
   "source": [
    "windowsize=3525\n",
    "dates=4895\n",
    "assets=5\n",
    "i=1\n",
    "while i <= dates-windowsize:\n",
    "    muestra = matrix.loc[i:i+(windowsize-1),:]\n",
    "    \n",
    "    \n",
    "    \n"
   ]
  },
  {
   "cell_type": "code",
   "execution_count": null,
   "metadata": {},
   "outputs": [],
   "source": []
  }
 ],
 "metadata": {
  "kernelspec": {
   "display_name": "Python 3",
   "language": "python",
   "name": "python3"
  },
  "language_info": {
   "codemirror_mode": {
    "name": "ipython",
    "version": 3
   },
   "file_extension": ".py",
   "mimetype": "text/x-python",
   "name": "python",
   "nbconvert_exporter": "python",
   "pygments_lexer": "ipython3",
   "version": "3.7.6"
  }
 },
 "nbformat": 4,
 "nbformat_minor": 4
}
